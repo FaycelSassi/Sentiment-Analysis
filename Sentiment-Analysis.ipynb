{
 "cells": [
  {
   "attachments": {},
   "cell_type": "markdown",
   "metadata": {},
   "source": [
    "# Creating dataset from json file"
   ]
  },
  {
   "attachments": {},
   "cell_type": "markdown",
   "metadata": {},
   "source": [
    "## Importing libraries\n"
   ]
  },
  {
   "cell_type": "code",
   "execution_count": 1,
   "metadata": {},
   "outputs": [],
   "source": [
    "import pandas as pd\n",
    "import numpy as np\n",
    "import seaborn as sns\n",
    "import ndjson"
   ]
  },
  {
   "cell_type": "code",
   "execution_count": 2,
   "metadata": {},
   "outputs": [],
   "source": [
    "with open('./Video_Games_5.json') as f:\n",
    "    data = ndjson.load(f)"
   ]
  },
  {
   "cell_type": "code",
   "execution_count": 3,
   "metadata": {},
   "outputs": [],
   "source": [
    "reviews = pd.DataFrame(data)"
   ]
  },
  {
   "cell_type": "code",
   "execution_count": 4,
   "metadata": {},
   "outputs": [
    {
     "data": {
      "text/html": [
       "<div>\n",
       "<style scoped>\n",
       "    .dataframe tbody tr th:only-of-type {\n",
       "        vertical-align: middle;\n",
       "    }\n",
       "\n",
       "    .dataframe tbody tr th {\n",
       "        vertical-align: top;\n",
       "    }\n",
       "\n",
       "    .dataframe thead th {\n",
       "        text-align: right;\n",
       "    }\n",
       "</style>\n",
       "<table border=\"1\" class=\"dataframe\">\n",
       "  <thead>\n",
       "    <tr style=\"text-align: right;\">\n",
       "      <th></th>\n",
       "      <th>overall</th>\n",
       "      <th>verified</th>\n",
       "      <th>reviewTime</th>\n",
       "      <th>reviewerID</th>\n",
       "      <th>asin</th>\n",
       "      <th>reviewerName</th>\n",
       "      <th>reviewText</th>\n",
       "      <th>summary</th>\n",
       "      <th>unixReviewTime</th>\n",
       "      <th>vote</th>\n",
       "      <th>style</th>\n",
       "      <th>image</th>\n",
       "    </tr>\n",
       "  </thead>\n",
       "  <tbody>\n",
       "    <tr>\n",
       "      <th>0</th>\n",
       "      <td>5.0</td>\n",
       "      <td>True</td>\n",
       "      <td>10 17, 2015</td>\n",
       "      <td>A1HP7NVNPFMA4N</td>\n",
       "      <td>0700026657</td>\n",
       "      <td>Ambrosia075</td>\n",
       "      <td>This game is a bit hard to get the hang of, bu...</td>\n",
       "      <td>but when you do it's great.</td>\n",
       "      <td>1445040000</td>\n",
       "      <td>NaN</td>\n",
       "      <td>NaN</td>\n",
       "      <td>NaN</td>\n",
       "    </tr>\n",
       "    <tr>\n",
       "      <th>1</th>\n",
       "      <td>4.0</td>\n",
       "      <td>False</td>\n",
       "      <td>07 27, 2015</td>\n",
       "      <td>A1JGAP0185YJI6</td>\n",
       "      <td>0700026657</td>\n",
       "      <td>travis</td>\n",
       "      <td>I played it a while but it was alright. The st...</td>\n",
       "      <td>But in spite of that it was fun, I liked it</td>\n",
       "      <td>1437955200</td>\n",
       "      <td>NaN</td>\n",
       "      <td>NaN</td>\n",
       "      <td>NaN</td>\n",
       "    </tr>\n",
       "    <tr>\n",
       "      <th>2</th>\n",
       "      <td>3.0</td>\n",
       "      <td>True</td>\n",
       "      <td>02 23, 2015</td>\n",
       "      <td>A1YJWEXHQBWK2B</td>\n",
       "      <td>0700026657</td>\n",
       "      <td>Vincent G. Mezera</td>\n",
       "      <td>ok game.</td>\n",
       "      <td>Three Stars</td>\n",
       "      <td>1424649600</td>\n",
       "      <td>NaN</td>\n",
       "      <td>NaN</td>\n",
       "      <td>NaN</td>\n",
       "    </tr>\n",
       "    <tr>\n",
       "      <th>3</th>\n",
       "      <td>2.0</td>\n",
       "      <td>True</td>\n",
       "      <td>02 20, 2015</td>\n",
       "      <td>A2204E1TH211HT</td>\n",
       "      <td>0700026657</td>\n",
       "      <td>Grandma KR</td>\n",
       "      <td>found the game a bit too complicated, not what...</td>\n",
       "      <td>Two Stars</td>\n",
       "      <td>1424390400</td>\n",
       "      <td>NaN</td>\n",
       "      <td>NaN</td>\n",
       "      <td>NaN</td>\n",
       "    </tr>\n",
       "    <tr>\n",
       "      <th>4</th>\n",
       "      <td>5.0</td>\n",
       "      <td>True</td>\n",
       "      <td>12 25, 2014</td>\n",
       "      <td>A2RF5B5H74JLPE</td>\n",
       "      <td>0700026657</td>\n",
       "      <td>jon</td>\n",
       "      <td>great game, I love it and have played it since...</td>\n",
       "      <td>love this game</td>\n",
       "      <td>1419465600</td>\n",
       "      <td>NaN</td>\n",
       "      <td>NaN</td>\n",
       "      <td>NaN</td>\n",
       "    </tr>\n",
       "  </tbody>\n",
       "</table>\n",
       "</div>"
      ],
      "text/plain": [
       "   overall  verified   reviewTime      reviewerID        asin  \\\n",
       "0      5.0      True  10 17, 2015  A1HP7NVNPFMA4N  0700026657   \n",
       "1      4.0     False  07 27, 2015  A1JGAP0185YJI6  0700026657   \n",
       "2      3.0      True  02 23, 2015  A1YJWEXHQBWK2B  0700026657   \n",
       "3      2.0      True  02 20, 2015  A2204E1TH211HT  0700026657   \n",
       "4      5.0      True  12 25, 2014  A2RF5B5H74JLPE  0700026657   \n",
       "\n",
       "        reviewerName                                         reviewText  \\\n",
       "0        Ambrosia075  This game is a bit hard to get the hang of, bu...   \n",
       "1             travis  I played it a while but it was alright. The st...   \n",
       "2  Vincent G. Mezera                                           ok game.   \n",
       "3         Grandma KR  found the game a bit too complicated, not what...   \n",
       "4                jon  great game, I love it and have played it since...   \n",
       "\n",
       "                                       summary  unixReviewTime vote style  \\\n",
       "0                  but when you do it's great.      1445040000  NaN   NaN   \n",
       "1  But in spite of that it was fun, I liked it      1437955200  NaN   NaN   \n",
       "2                                  Three Stars      1424649600  NaN   NaN   \n",
       "3                                    Two Stars      1424390400  NaN   NaN   \n",
       "4                               love this game      1419465600  NaN   NaN   \n",
       "\n",
       "  image  \n",
       "0   NaN  \n",
       "1   NaN  \n",
       "2   NaN  \n",
       "3   NaN  \n",
       "4   NaN  "
      ]
     },
     "execution_count": 4,
     "metadata": {},
     "output_type": "execute_result"
    }
   ],
   "source": [
    "reviews.head()"
   ]
  },
  {
   "cell_type": "code",
   "execution_count": 5,
   "metadata": {},
   "outputs": [
    {
     "name": "stdout",
     "output_type": "stream",
     "text": [
      "<class 'pandas.core.frame.DataFrame'>\n",
      "RangeIndex: 497577 entries, 0 to 497576\n",
      "Data columns (total 12 columns):\n",
      " #   Column          Non-Null Count   Dtype  \n",
      "---  ------          --------------   -----  \n",
      " 0   overall         497577 non-null  float64\n",
      " 1   verified        497577 non-null  bool   \n",
      " 2   reviewTime      497577 non-null  object \n",
      " 3   reviewerID      497577 non-null  object \n",
      " 4   asin            497577 non-null  object \n",
      " 5   reviewerName    497501 non-null  object \n",
      " 6   reviewText      497419 non-null  object \n",
      " 7   summary         497468 non-null  object \n",
      " 8   unixReviewTime  497577 non-null  int64  \n",
      " 9   vote            107793 non-null  object \n",
      " 10  style           289237 non-null  object \n",
      " 11  image           3634 non-null    object \n",
      "dtypes: bool(1), float64(1), int64(1), object(9)\n",
      "memory usage: 42.2+ MB\n"
     ]
    }
   ],
   "source": [
    "reviews.info()\n"
   ]
  },
  {
   "cell_type": "code",
   "execution_count": 6,
   "metadata": {},
   "outputs": [
    {
     "data": {
      "text/plain": [
       "<AxesSubplot:xlabel='overall', ylabel='count'>"
      ]
     },
     "execution_count": 6,
     "metadata": {},
     "output_type": "execute_result"
    },
    {
     "data": {
      "image/png": "[encoded data removed]",
      "text/plain": [
       "<Figure size 432x288 with 1 Axes>"
      ]
     },
     "metadata": {
      "needs_background": "light"
     },
     "output_type": "display_data"
    }
   ],
   "source": [
    "sns.countplot(data = reviews, x='overall')"
   ]
  },
  {
   "cell_type": "code",
   "execution_count": 7,
   "metadata": {},
   "outputs": [
    {
     "data": {
      "text/plain": [
       "17408"
      ]
     },
     "execution_count": 7,
     "metadata": {},
     "output_type": "execute_result"
    }
   ],
   "source": [
    "len(reviews['asin'].value_counts(dropna=False))\n"
   ]
  },
  {
   "attachments": {},
   "cell_type": "markdown",
   "metadata": {},
   "source": [
    "## Undersampling of Reviews\n"
   ]
  },
  {
   "attachments": {},
   "cell_type": "markdown",
   "metadata": {},
   "source": [
    "Taking a random sample of the reviews by selecting 150 reviews with rating 1, 50-50-50 reviews with ratings 2, 3, 4, and 100 reviews with rating 5. This way you get a smaller balanced corpus, on which you will during Milestones 2-4.\n",
    "\n"
   ]
  },
  {
   "cell_type": "code",
   "execution_count": 13,
   "metadata": {},
   "outputs": [],
   "source": [
    "one_150 = reviews[reviews['overall']==1.0].sample(n=150)\n",
    "two_50 = reviews[reviews['overall']==2.0].sample(n=50)\n",
    "three_50 = reviews[reviews['overall']==3.0].sample(n=50)\n",
    "four_50 = reviews[reviews['overall']==4.0].sample(n=50)\n",
    "five_100 = reviews[reviews['overall']==5.0].sample(n=100)"
   ]
  },
  {
   "cell_type": "code",
   "execution_count": 14,
   "metadata": {},
   "outputs": [],
   "source": [
    "undersampled_reviews = pd.concat([one_150, two_50, three_50, four_50, five_100], axis=0)"
   ]
  },
  {
   "cell_type": "code",
   "execution_count": 15,
   "metadata": {},
   "outputs": [
    {
     "data": {
      "text/plain": [
       "1.0    150\n",
       "5.0    100\n",
       "2.0     50\n",
       "3.0     50\n",
       "4.0     50\n",
       "Name: overall, dtype: int64"
      ]
     },
     "execution_count": 15,
     "metadata": {},
     "output_type": "execute_result"
    }
   ],
   "source": [
    "undersampled_reviews['overall'].value_counts(dropna=False)"
   ]
  },
  {
   "cell_type": "code",
   "execution_count": 16,
   "metadata": {},
   "outputs": [
    {
     "data": {
      "text/plain": [
       "<AxesSubplot:xlabel='overall', ylabel='count'>"
      ]
     },
     "execution_count": 16,
     "metadata": {},
     "output_type": "execute_result"
    },
    {
     "data": {
      "image/png": "[encoded data removed]",
      "text/plain": [
       "<Figure size 432x288 with 1 Axes>"
      ]
     },
     "metadata": {
      "needs_background": "light"
     },
     "output_type": "display_data"
    }
   ],
   "source": [
    "sns.countplot(data=undersampled_reviews, x='overall')"
   ]
  },
  {
   "attachments": {},
   "cell_type": "markdown",
   "metadata": {},
   "source": [
    "## Writing Corpora"
   ]
  },
  {
   "cell_type": "code",
   "execution_count": 18,
   "metadata": {},
   "outputs": [],
   "source": [
    "undersampled_reviews.to_csv(\"./small_corpus.csv\", index=False)"
   ]
  },
  {
   "attachments": {},
   "cell_type": "markdown",
   "metadata": {},
   "source": [
    "# Sentiment Scoring Using SentiWordNet"
   ]
  },
  {
   "attachments": {},
   "cell_type": "markdown",
   "metadata": {},
   "source": [
    "## Importing libraries\n"
   ]
  },
  {
   "cell_type": "code",
   "execution_count": 19,
   "metadata": {},
   "outputs": [],
   "source": [
    "from nltk import sent_tokenize, pos_tag\n",
    "from nltk.tokenize import TreebankWordTokenizer\n",
    "from nltk.stem import WordNetLemmatizer\n",
    "from nltk.corpus import wordnet as wn\n",
    "from nltk.corpus import sentiwordnet as swn\n",
    "from nltk.sentiment.util import mark_negation\n",
    "from string import punctuation\n",
    "from IPython.display import display\n",
    "import nltk\n",
    "import pandas as pd\n",
    "import numpy as np\n",
    "import seaborn as sns\n",
    "import matplotlib.pyplot as plt\n",
    "pd.set_option('display.max_columns', None)\n",
    "pd.set_option('display.max_colwidth', None)"
   ]
  },
  {
   "cell_type": "code",
   "execution_count": 20,
   "metadata": {},
   "outputs": [],
   "source": [
    "def penn_to_wn(tag):\n",
    "    \"\"\"\n",
    "        Convert between the PennTreebank tags to simple Wordnet tags\n",
    "    \"\"\"\n",
    "    if tag.startswith('J'):\n",
    "        return wn.ADJ\n",
    "    elif tag.startswith('N'):\n",
    "        return wn.NOUN\n",
    "    elif tag.startswith('R'):\n",
    "        return wn.ADV\n",
    "    elif tag.startswith('V'):\n",
    "        return wn.VERB\n",
    "    return None"
   ]
  },
  {
   "cell_type": "code",
   "execution_count": 21,
   "metadata": {},
   "outputs": [],
   "source": [
    "def get_sentiment_score(text):\n",
    "    \n",
    "    \"\"\"\n",
    "        This method returns the sentiment score of a given text using SentiWordNet sentiment scores.\n",
    "        input: text\n",
    "        output: numeric (double) score, >0 means positive sentiment and <0 means negative sentiment.\n",
    "    \"\"\"    \n",
    "    total_score = 0\n",
    "    #print(text)\n",
    "    raw_sentences = sent_tokenize(text)\n",
    "    #print(raw_sentences)\n",
    "    \n",
    "    for sentence in raw_sentences:\n",
    "\n",
    "        sent_score = 0     \n",
    "        sentence = str(sentence)\n",
    "        #print(sentence)\n",
    "        sentence = sentence.replace(\"\",\" \").translate(str.maketrans('','',punctuation)).lower()\n",
    "        tokens = TreebankWordTokenizer().tokenize(text)\n",
    "        tags = pos_tag(tokens)\n",
    "        for word, tag in tags:\n",
    "            wn_tag = penn_to_wn(tag)\n",
    "            if not wn_tag:\n",
    "                continue\n",
    "            lemma = WordNetLemmatizer().lemmatize(word, pos=wn_tag)\n",
    "            if not lemma:\n",
    "                continue\n",
    "            synsets = wn.synsets(lemma, pos=wn_tag)\n",
    "            if not synsets:\n",
    "                continue\n",
    "            synset = synsets[0]\n",
    "            swn_synset = swn.senti_synset(synset.name())\n",
    "            sent_score += swn_synset.pos_score() - swn_synset.neg_score()\n",
    "\n",
    "        total_score = total_score + (sent_score / len(tokens))\n",
    "\n",
    "    \n",
    "    return (total_score / len(raw_sentences)) * 100"
   ]
  },
  {
   "cell_type": "code",
   "execution_count": 22,
   "metadata": {},
   "outputs": [],
   "source": [
    "reviews = pd.read_csv(\"./small_corpus.csv\")"
   ]
  },
  {
   "cell_type": "code",
   "execution_count": 23,
   "metadata": {},
   "outputs": [
    {
     "data": {
      "text/plain": [
       "(400, 12)"
      ]
     },
     "execution_count": 23,
     "metadata": {},
     "output_type": "execute_result"
    }
   ],
   "source": [
    "reviews.shape"
   ]
  },
  {
   "cell_type": "code",
   "execution_count": 24,
   "metadata": {},
   "outputs": [
    {
     "data": {
      "text/html": [
       "<div>\n",
       "<style scoped>\n",
       "    .dataframe tbody tr th:only-of-type {\n",
       "        vertical-align: middle;\n",
       "    }\n",
       "\n",
       "    .dataframe tbody tr th {\n",
       "        vertical-align: top;\n",
       "    }\n",
       "\n",
       "    .dataframe thead th {\n",
       "        text-align: right;\n",
       "    }\n",
       "</style>\n",
       "<table border=\"1\" class=\"dataframe\">\n",
       "  <thead>\n",
       "    <tr style=\"text-align: right;\">\n",
       "      <th></th>\n",
       "      <th>overall</th>\n",
       "      <th>verified</th>\n",
       "      <th>reviewTime</th>\n",
       "      <th>reviewerID</th>\n",
       "      <th>asin</th>\n",
       "      <th>reviewerName</th>\n",
       "      <th>reviewText</th>\n",
       "      <th>summary</th>\n",
       "      <th>unixReviewTime</th>\n",
       "      <th>vote</th>\n",
       "      <th>style</th>\n",
       "      <th>image</th>\n",
       "    </tr>\n",
       "  </thead>\n",
       "  <tbody>\n",
       "    <tr>\n",
       "      <th>0</th>\n",
       "      <td>1.0</td>\n",
       "      <td>True</td>\n",
       "      <td>01 24, 2016</td>\n",
       "      <td>A2KF8OC6R396P4</td>\n",
       "      <td>B0045ZIEPY</td>\n",
       "      <td>Benjamin Cohen</td>\n",
       "      <td>This game is really boring to me. I also can't remember what special moves I have in which slots or them in general. Really confusing. Get another RPG that doesn't require you to have Autism to remember everything.</td>\n",
       "      <td>Insane amount of text</td>\n",
       "      <td>1453593600</td>\n",
       "      <td>NaN</td>\n",
       "      <td>{'Platform:': ' PlayStation 3'}</td>\n",
       "      <td>NaN</td>\n",
       "    </tr>\n",
       "    <tr>\n",
       "      <th>1</th>\n",
       "      <td>1.0</td>\n",
       "      <td>False</td>\n",
       "      <td>10 15, 2007</td>\n",
       "      <td>A1GDCXI6V6T81M</td>\n",
       "      <td>B000PS2XES</td>\n",
       "      <td>D. M. Crosgrove</td>\n",
       "      <td>I loved HL2. I loved HL2 E1. This episode, however, is both uninspired and frustrating. Too many missions which are thinly disguised timed missions. (You know, wave after wave of mobs are thrown at you and if one makes it past you through one of the areas you are guarding have failed and thus get to restart.) The plot that is being advanced is, well, about as original as as an MST3K movie. Your new weapon is a mine you must fire with the grav gun  so it sticks to a mob, and then switch to another wep and hit the mine so it explodes.\\n\\nBTW, if the mine gets hit by enemy fire even when it is in your grasp, it crumbles. Also, if you miss and land it near the mob, the mine merely shatters.\\n\\nWow! What a great innovation!\\n\\nAnd, this is the wep you get for one of the timed missions--the last boss mission.\\n\\nSadly, also, this entire episode only takes about 5-6 hours to finish if you explore a lot. You are not getting a lot of content for your dollar.\\n\\nThis is the Star Wars Galaxies of the HL franchise...</td>\n",
       "      <td>This is the Star Wars Galaxies of the HL franchise...</td>\n",
       "      <td>1192406400</td>\n",
       "      <td>15.0</td>\n",
       "      <td>{'Platform:': ' PC'}</td>\n",
       "      <td>NaN</td>\n",
       "    </tr>\n",
       "    <tr>\n",
       "      <th>2</th>\n",
       "      <td>1.0</td>\n",
       "      <td>False</td>\n",
       "      <td>03 28, 2013</td>\n",
       "      <td>A1507URMTDQMM3</td>\n",
       "      <td>B006UD9CY6</td>\n",
       "      <td>Todd Wood jr.</td>\n",
       "      <td>Often if it sounds to good to be true it is Xploder is the example it's nothing more then a scam the saves seem to fail to resign which is xploders one and only job and the cheat saves are all player made and I myself could make better cheat saves then the ones availible.</td>\n",
       "      <td>Xploder=scam</td>\n",
       "      <td>1364428800</td>\n",
       "      <td>14.0</td>\n",
       "      <td>NaN</td>\n",
       "      <td>NaN</td>\n",
       "    </tr>\n",
       "    <tr>\n",
       "      <th>3</th>\n",
       "      <td>1.0</td>\n",
       "      <td>True</td>\n",
       "      <td>01 9, 2018</td>\n",
       "      <td>A2E4SOBXHATYC7</td>\n",
       "      <td>B01E8RS598</td>\n",
       "      <td>Alex</td>\n",
       "      <td>Plastic build, minimal adjustments, low quality software, painful to wear for an extended period of time, not recomending these. I would honestly rather spend the extra $$$ and get a logitech product.</td>\n",
       "      <td>painful to wear for an extended period of time</td>\n",
       "      <td>1515456000</td>\n",
       "      <td>2.0</td>\n",
       "      <td>{'Color:': ' Spirit Wolf USB White'}</td>\n",
       "      <td>NaN</td>\n",
       "    </tr>\n",
       "    <tr>\n",
       "      <th>4</th>\n",
       "      <td>1.0</td>\n",
       "      <td>False</td>\n",
       "      <td>10 12, 2010</td>\n",
       "      <td>A132GQLZPBYBGH</td>\n",
       "      <td>B000TI836G</td>\n",
       "      <td>Danny</td>\n",
       "      <td>I thought this game was better than COD but it turns out COD BLACK OPS FTW!</td>\n",
       "      <td>NOT A GOOD GAME TO BUY!</td>\n",
       "      <td>1286841600</td>\n",
       "      <td>5.0</td>\n",
       "      <td>{'Format:': ' Video Game'}</td>\n",
       "      <td>NaN</td>\n",
       "    </tr>\n",
       "  </tbody>\n",
       "</table>\n",
       "</div>"
      ],
      "text/plain": [
       "   overall  verified   reviewTime      reviewerID        asin  \\\n",
       "0      1.0      True  01 24, 2016  A2KF8OC6R396P4  B0045ZIEPY   \n",
       "1      1.0     False  10 15, 2007  A1GDCXI6V6T81M  B000PS2XES   \n",
       "2      1.0     False  03 28, 2013  A1507URMTDQMM3  B006UD9CY6   \n",
       "3      1.0      True   01 9, 2018  A2E4SOBXHATYC7  B01E8RS598   \n",
       "4      1.0     False  10 12, 2010  A132GQLZPBYBGH  B000TI836G   \n",
       "\n",
       "      reviewerName  \\\n",
       "0   Benjamin Cohen   \n",
       "1  D. M. Crosgrove   \n",
       "2    Todd Wood jr.   \n",
       "3             Alex   \n",
       "4            Danny   \n",
       "\n",
       "                                                                                                                                                                                                                                                                                                                                                                                                                                                                                                                                                                                                                                                                                                                                                                                                                                                                                                                                                                                                                                                     reviewText  \\\n",
       "0                                                                                                                                                                                                                                                                                                                                                                                                                                                                                                                                                                                                                                                                                                                                                                                                                                        This game is really boring to me. I also can't remember what special moves I have in which slots or them in general. Really confusing. Get another RPG that doesn't require you to have Autism to remember everything.   \n",
       "1  I loved HL2. I loved HL2 E1. This episode, however, is both uninspired and frustrating. Too many missions which are thinly disguised timed missions. (You know, wave after wave of mobs are thrown at you and if one makes it past you through one of the areas you are guarding have failed and thus get to restart.) The plot that is being advanced is, well, about as original as as an MST3K movie. Your new weapon is a mine you must fire with the grav gun  so it sticks to a mob, and then switch to another wep and hit the mine so it explodes.\\n\\nBTW, if the mine gets hit by enemy fire even when it is in your grasp, it crumbles. Also, if you miss and land it near the mob, the mine merely shatters.\\n\\nWow! What a great innovation!\\n\\nAnd, this is the wep you get for one of the timed missions--the last boss mission.\\n\\nSadly, also, this entire episode only takes about 5-6 hours to finish if you explore a lot. You are not getting a lot of content for your dollar.\\n\\nThis is the Star Wars Galaxies of the HL franchise...   \n",
       "2                                                                                                                                                                                                                                                                                                                                                                                                                                                                                                                                                                                                                                                                                                                                                                              Often if it sounds to good to be true it is Xploder is the example it's nothing more then a scam the saves seem to fail to resign which is xploders one and only job and the cheat saves are all player made and I myself could make better cheat saves then the ones availible.   \n",
       "3                                                                                                                                                                                                                                                                                                                                                                                                                                                                                                                                                                                                                                                                                                                                                                                                                                                      Plastic build, minimal adjustments, low quality software, painful to wear for an extended period of time, not recomending these. I would honestly rather spend the extra $$$ and get a logitech product.   \n",
       "4                                                                                                                                                                                                                                                                                                                                                                                                                                                                                                                                                                                                                                                                                                                                                                                                                                                                                                                                                                                   I thought this game was better than COD but it turns out COD BLACK OPS FTW!   \n",
       "\n",
       "                                                 summary  unixReviewTime  \\\n",
       "0                                  Insane amount of text      1453593600   \n",
       "1  This is the Star Wars Galaxies of the HL franchise...      1192406400   \n",
       "2                                           Xploder=scam      1364428800   \n",
       "3         painful to wear for an extended period of time      1515456000   \n",
       "4                                NOT A GOOD GAME TO BUY!      1286841600   \n",
       "\n",
       "   vote                                 style image  \n",
       "0   NaN       {'Platform:': ' PlayStation 3'}   NaN  \n",
       "1  15.0                  {'Platform:': ' PC'}   NaN  \n",
       "2  14.0                                   NaN   NaN  \n",
       "3   2.0  {'Color:': ' Spirit Wolf USB White'}   NaN  \n",
       "4   5.0            {'Format:': ' Video Game'}   NaN  "
      ]
     },
     "execution_count": 24,
     "metadata": {},
     "output_type": "execute_result"
    }
   ],
   "source": [
    "reviews.head()"
   ]
  },
  {
   "cell_type": "code",
   "execution_count": 25,
   "metadata": {},
   "outputs": [],
   "source": [
    "reviews.dropna(subset=['reviewText'], inplace=True)"
   ]
  },
  {
   "cell_type": "code",
   "execution_count": 26,
   "metadata": {},
   "outputs": [
    {
     "data": {
      "text/plain": [
       "(400, 12)"
      ]
     },
     "execution_count": 26,
     "metadata": {},
     "output_type": "execute_result"
    }
   ],
   "source": [
    "reviews.shape"
   ]
  },
  {
   "cell_type": "code",
   "execution_count": 27,
   "metadata": {},
   "outputs": [],
   "source": [
    "reviews['swn_score'] = reviews['reviewText'].apply(lambda text : get_sentiment_score(text))"
   ]
  },
  {
   "cell_type": "code",
   "execution_count": 29,
   "metadata": {},
   "outputs": [
    {
     "data": {
      "text/html": [
       "<div>\n",
       "<style scoped>\n",
       "    .dataframe tbody tr th:only-of-type {\n",
       "        vertical-align: middle;\n",
       "    }\n",
       "\n",
       "    .dataframe tbody tr th {\n",
       "        vertical-align: top;\n",
       "    }\n",
       "\n",
       "    .dataframe thead th {\n",
       "        text-align: right;\n",
       "    }\n",
       "</style>\n",
       "<table border=\"1\" class=\"dataframe\">\n",
       "  <thead>\n",
       "    <tr style=\"text-align: right;\">\n",
       "      <th></th>\n",
       "      <th>reviewText</th>\n",
       "      <th>swn_score</th>\n",
       "    </tr>\n",
       "  </thead>\n",
       "  <tbody>\n",
       "    <tr>\n",
       "      <th>135</th>\n",
       "      <td>Key didn't work.</td>\n",
       "      <td>0.000000</td>\n",
       "    </tr>\n",
       "    <tr>\n",
       "      <th>294</th>\n",
       "      <td>They took a lot of liberty with this sequel.. It still feels like Bravely Default, but it isn't as good as the original. Voice acting seems off, personalities have changed. Storyline is kinda meh. The choice system on sub quests in particular is infuriating. Battles still work the same and there are a lot of good quality of life changes. Bossfights are a little more bland than in Bravely Default. Even on hard mode, boss's hp is too low to not completely obliterate them even if you fight them in the suggested level range. There are some really overpowered (passive) abilities you have access to early that just make the early/mid part of the story a steamroll. Aside from these nitpicks, the game is fine. If you liked Bravely Default, you'll experience undertones of disappointment while playing this game, but it is still worth picking up just to play more Bravely Default.</td>\n",
       "      <td>1.295732</td>\n",
       "    </tr>\n",
       "  </tbody>\n",
       "</table>\n",
       "</div>"
      ],
      "text/plain": [
       "                                                                                                                                                                                                                                                                                                                                                                                                                                                                                                                                                                                                                                                                                                                                                                                                                                                                                                           reviewText  \\\n",
       "135                                                                                                                                                                                                                                                                                                                                                                                                                                                                                                                                                                                                                                                                                                                                                                                                                                                                                                  Key didn't work.   \n",
       "294  They took a lot of liberty with this sequel.. It still feels like Bravely Default, but it isn't as good as the original. Voice acting seems off, personalities have changed. Storyline is kinda meh. The choice system on sub quests in particular is infuriating. Battles still work the same and there are a lot of good quality of life changes. Bossfights are a little more bland than in Bravely Default. Even on hard mode, boss's hp is too low to not completely obliterate them even if you fight them in the suggested level range. There are some really overpowered (passive) abilities you have access to early that just make the early/mid part of the story a steamroll. Aside from these nitpicks, the game is fine. If you liked Bravely Default, you'll experience undertones of disappointment while playing this game, but it is still worth picking up just to play more Bravely Default.   \n",
       "\n",
       "     swn_score  \n",
       "135   0.000000  \n",
       "294   1.295732  "
      ]
     },
     "execution_count": 29,
     "metadata": {},
     "output_type": "execute_result"
    }
   ],
   "source": [
    "reviews[['reviewText','swn_score']].sample(2)"
   ]
  },
  {
   "cell_type": "code",
   "execution_count": 30,
   "metadata": {},
   "outputs": [
    {
     "data": {
      "image/png": "[encoded data removed]",
      "text/plain": [
       "<Figure size 1440x720 with 1 Axes>"
      ]
     },
     "metadata": {
      "needs_background": "light"
     },
     "output_type": "display_data"
    }
   ],
   "source": [
    "fig , ax = plt.subplots(nrows=1, ncols=1, figsize=(20,10))\n",
    "sns.histplot(x='swn_score', data=reviews.query(\"swn_score < 8 and swn_score > -8\"), ax=ax)\n",
    "plt.show()"
   ]
  },
  {
   "cell_type": "code",
   "execution_count": 31,
   "metadata": {},
   "outputs": [],
   "source": [
    "reviews['swn_sentiment'] = reviews['swn_score'].apply(lambda x: \"positive\" if x>1 else (\"negative\" if x<0.5 else \"neutral\"))"
   ]
  },
  {
   "cell_type": "code",
   "execution_count": 32,
   "metadata": {},
   "outputs": [
    {
     "data": {
      "text/plain": [
       "positive    180\n",
       "negative    165\n",
       "neutral      55\n",
       "Name: swn_sentiment, dtype: int64"
      ]
     },
     "execution_count": 32,
     "metadata": {},
     "output_type": "execute_result"
    }
   ],
   "source": [
    "reviews['swn_sentiment'].value_counts(dropna=False)"
   ]
  },
  {
   "cell_type": "code",
   "execution_count": 33,
   "metadata": {},
   "outputs": [
    {
     "data": {
      "text/plain": [
       "<AxesSubplot:xlabel='overall', ylabel='count'>"
      ]
     },
     "execution_count": 33,
     "metadata": {},
     "output_type": "execute_result"
    },
    {
     "data": {
      "image/png": "[encoded data removed]",
      "text/plain": [
       "<Figure size 432x288 with 1 Axes>"
      ]
     },
     "metadata": {
      "needs_background": "light"
     },
     "output_type": "display_data"
    }
   ],
   "source": [
    "sns.countplot(x='overall', hue='swn_sentiment' ,data = reviews)"
   ]
  },
  {
   "cell_type": "code",
   "execution_count": 34,
   "metadata": {},
   "outputs": [
    {
     "data": {
      "text/plain": [
       "<AxesSubplot:xlabel='swn_sentiment', ylabel='overall'>"
      ]
     },
     "execution_count": 34,
     "metadata": {},
     "output_type": "execute_result"
    },
    {
     "data": {
      "image/png": "[encoded data removed]",
      "text/plain": [
       "<Figure size 432x288 with 1 Axes>"
      ]
     },
     "metadata": {
      "needs_background": "light"
     },
     "output_type": "display_data"
    }
   ],
   "source": [
    "sns.boxenplot(x='swn_sentiment', y='overall', data = reviews)\n"
   ]
  },
  {
   "cell_type": "code",
   "execution_count": 35,
   "metadata": {},
   "outputs": [
    {
     "data": {
      "image/png": "[encoded data removed]",
      "text/plain": [
       "<Figure size 864x504 with 1 Axes>"
      ]
     },
     "metadata": {
      "needs_background": "light"
     },
     "output_type": "display_data"
    }
   ],
   "source": [
    "fig, ax = plt.subplots(nrows=1, ncols=1, figsize = (12,7))\n",
    "sns.boxenplot(x='overall', y='swn_score', data = reviews, ax=ax)\n",
    "plt.show()"
   ]
  },
  {
   "cell_type": "code",
   "execution_count": 36,
   "metadata": {},
   "outputs": [],
   "source": [
    "reviews['true_sentiment'] = \\\n",
    "    reviews['overall'].apply(lambda x: \"positive\" if x>=4 else (\"neutral\" if x==3 else \"negative\"))"
   ]
  },
  {
   "cell_type": "code",
   "execution_count": 37,
   "metadata": {},
   "outputs": [],
   "source": [
    "y_swn_pred, y_true = reviews['swn_sentiment'].tolist(), reviews['true_sentiment'].tolist()"
   ]
  },
  {
   "cell_type": "code",
   "execution_count": 38,
   "metadata": {},
   "outputs": [
    {
     "data": {
      "text/plain": [
       "(400, 400)"
      ]
     },
     "execution_count": 38,
     "metadata": {},
     "output_type": "execute_result"
    }
   ],
   "source": [
    "len(y_swn_pred), len(y_true)"
   ]
  },
  {
   "cell_type": "code",
   "execution_count": 39,
   "metadata": {},
   "outputs": [],
   "source": [
    "from sklearn.metrics import confusion_matrix\n",
    "cm = confusion_matrix(y_true, y_swn_pred)"
   ]
  },
  {
   "cell_type": "code",
   "execution_count": 40,
   "metadata": {},
   "outputs": [],
   "source": [
    "from sklearn.metrics import confusion_matrix\n",
    "cm = confusion_matrix(y_true, y_swn_pred)"
   ]
  },
  {
   "cell_type": "code",
   "execution_count": 41,
   "metadata": {},
   "outputs": [
    {
     "data": {
      "image/png": "[encoded data removed]",
      "text/plain": [
       "<Figure size 576x432 with 2 Axes>"
      ]
     },
     "metadata": {
      "needs_background": "light"
     },
     "output_type": "display_data"
    }
   ],
   "source": [
    "fig , ax = plt.subplots(nrows=1, ncols=1, figsize=(8,6))\n",
    "sns.heatmap(cm, cmap='viridis_r', annot=True, fmt='d', square=True, ax=ax)\n",
    "ax.set_xlabel('Predicted')\n",
    "ax.set_ylabel('True');"
   ]
  },
  {
   "attachments": {},
   "cell_type": "markdown",
   "metadata": {},
   "source": [
    "# Performance assessment"
   ]
  },
  {
   "attachments": {},
   "cell_type": "markdown",
   "metadata": {},
   "source": [
    "## Positive Sentiment Prediction Assessment"
   ]
  },
  {
   "cell_type": "code",
   "execution_count": 45,
   "metadata": {},
   "outputs": [],
   "source": [
    "tp, tn, fp, fn = 87, 103+30+7+17, 26+67, 18+45"
   ]
  },
  {
   "cell_type": "code",
   "execution_count": 46,
   "metadata": {},
   "outputs": [],
   "source": [
    "recall = tp / (tp+fn)\n",
    "specifity = tn / (tn+fp)\n",
    "precision = tp/(tp+fp)\n",
    "f1 = (2*tp) / (2*tp + fp + fn)"
   ]
  },
  {
   "cell_type": "code",
   "execution_count": 47,
   "metadata": {},
   "outputs": [
    {
     "name": "stdout",
     "output_type": "stream",
     "text": [
      "recall: 0.58\n",
      "precission: 0.48333333333333334\n",
      "f1 score: 0.5272727272727272\n"
     ]
    }
   ],
   "source": [
    "print(\"recall: {}\\nprecission: {}\\nf1 score: {}\".format(recall, precision, f1))"
   ]
  },
  {
   "attachments": {},
   "cell_type": "markdown",
   "metadata": {},
   "source": [
    "## Negative Sentiment Prediction Assessment"
   ]
  },
  {
   "cell_type": "code",
   "execution_count": 49,
   "metadata": {},
   "outputs": [],
   "source": [
    "tp, tn, fp, fn = 103, 7+26+18+87, 30+67, 17+45"
   ]
  },
  {
   "cell_type": "code",
   "execution_count": 50,
   "metadata": {},
   "outputs": [
    {
     "name": "stdout",
     "output_type": "stream",
     "text": [
      "recall: 0.58\n",
      "precission: 0.48333333333333334\n",
      "f1 score: 0.5272727272727272\n"
     ]
    }
   ],
   "source": [
    "print(\"recall: {}\\nprecission: {}\\nf1 score: {}\".format(recall, precision, f1))"
   ]
  },
  {
   "cell_type": "code",
   "execution_count": null,
   "metadata": {},
   "outputs": [],
   "source": []
  }
 ],
 "metadata": {
  "kernelspec": {
   "display_name": "base",
   "language": "python",
   "name": "python3"
  },
  "language_info": {
   "codemirror_mode": {
    "name": "ipython",
    "version": 3
   },
   "file_extension": ".py",
   "mimetype": "text/x-python",
   "name": "python",
   "nbconvert_exporter": "python",
   "pygments_lexer": "ipython3",
   "version": "3.9.12"
  },
  "orig_nbformat": 4,
  "vscode": {
   "interpreter": {
    "hash": "ad2bdc8ecc057115af97d19610ffacc2b4e99fae6737bb82f5d7fb13d2f2c186"
   }
  }
 },
 "nbformat": 4,
 "nbformat_minor": 2
}
